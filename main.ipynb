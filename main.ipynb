{
 "cells": [
  {
   "cell_type": "code",
   "execution_count": null,
   "metadata": {
    "collapsed": true
   },
   "outputs": [],
   "source": [
    "import pandas as pd\n",
    "\n",
    "csv_src = \".csv\"    # <- select CSV Files.\n",
    "csv_export = csv_src[:-4] + \"_export.csv\"\n",
    "df = pd.read_csv(csv_src)\n",
    "df.head()"
   ]
  },
  {
   "cell_type": "code",
   "execution_count": null,
   "outputs": [],
   "source": [
    "# インデックスをメアドに変更\n",
    "df.set_index('e-mail',inplace=True)\n",
    "df.head()"
   ],
   "metadata": {
    "collapsed": false,
    "pycharm": {
     "name": "#%%\n"
    }
   }
  },
  {
   "cell_type": "code",
   "execution_count": null,
   "outputs": [],
   "source": [
    "# チケット番号処理\n",
    "previous_mail = \"\"\n",
    "list_ticket_no = []\n",
    "list_tmp = []\n",
    "for row in df.itertuples():\n",
    "    mail = row[0]\n",
    "    ticket_no = row[2]\n",
    "\n",
    "    if mail != previous_mail:\n",
    "        list_ticket_no.append(list_tmp)# １枚目\n",
    "        list_tmp = []\n",
    "        list_tmp.append(mail)\n",
    "        list_tmp.append(ticket_no)\n",
    "    elif mail == previous_mail: # ２枚目以降\n",
    "        list_tmp.append(ticket_no)\n",
    "\n",
    "    previous_mail = mail\n",
    "\n",
    "list_ticket_no.append(list_tmp)     #最終行追加\n",
    "list_ticket_no.pop(0)   # 一行目（最初の空行）を消す\n",
    "print(list_ticket_no)"
   ],
   "metadata": {
    "collapsed": false,
    "pycharm": {
     "name": "#%%\n"
    }
   }
  },
  {
   "cell_type": "code",
   "execution_count": null,
   "outputs": [],
   "source": [
    "# csv export　チケット番号\n",
    "\"\"\"\n",
    "DataFrame.to_csv(path_or_buf=None, sep=', ', na_rep='', float_format=None, columns=None, header=True,\n",
    "  index=True, index_label=None, mode='w', encoding=None, compression=None, quoting=None,\n",
    "  quotechar='\"', line_terminator='\\n', chunksize=None, tupleize_cols=False, date_format=None,\n",
    "  doublequote=True, escapechar=None, decimal='.')\n",
    "\"\"\"\n",
    "\n",
    "df_ticket_no = pd.DataFrame(list_ticket_no)\n",
    "df_ticket_no.head(18)"
   ],
   "metadata": {
    "collapsed": false,
    "pycharm": {
     "name": "#%%\n"
    }
   }
  },
  {
   "cell_type": "code",
   "execution_count": null,
   "outputs": [],
   "source": [
    "# ドライブURL処理\n",
    "previous_mail = \"\"\n",
    "list_ticket_url = []\n",
    "list_tmp = []\n",
    "for row in df.itertuples():\n",
    "    mail = row[0]\n",
    "    ticket_url = row[6]\n",
    "\n",
    "    if mail != previous_mail:\n",
    "        list_ticket_url.append(list_tmp)# １枚目\n",
    "        list_tmp = []\n",
    "        list_tmp.append(mail)\n",
    "        list_tmp.append(ticket_url)\n",
    "    elif mail == previous_mail: # ２枚目以降\n",
    "        list_tmp.append(ticket_url)\n",
    "\n",
    "    previous_mail = mail\n",
    "\n",
    "list_ticket_url.append(list_tmp)     #最終行追加\n",
    "list_ticket_url.pop(0)   # 一行目（最初の空行）を消す\n",
    "#print(list_ticket_url)"
   ],
   "metadata": {
    "collapsed": false,
    "pycharm": {
     "name": "#%%\n"
    }
   }
  },
  {
   "cell_type": "code",
   "execution_count": null,
   "outputs": [],
   "source": [
    "# csv export　ドライブURL\n",
    "df_ticket_url = pd.DataFrame(list_ticket_url)\n",
    "df_ticket_url.head(18)\n"
   ],
   "metadata": {
    "collapsed": false,
    "pycharm": {
     "name": "#%%\n"
    }
   }
  },
  {
   "cell_type": "code",
   "execution_count": null,
   "outputs": [],
   "source": [
    "# 行数チェック\n",
    "if len(df_ticket_no.shape) == len(df_ticket_url.shape):\n",
    "    len_rows = len(df_ticket_no)\n",
    "    len_columns =len(df_ticket_no.columns)\n",
    "else:\n",
    "    print(\"行列数エラー。終了します。\")\n",
    "    exit()\n",
    "\n"
   ],
   "metadata": {
    "collapsed": false,
    "pycharm": {
     "name": "#%%\n"
    }
   }
  },
  {
   "cell_type": "code",
   "execution_count": null,
   "outputs": [],
   "source": [
    "df_ticket_no.iloc[0,0]"
   ],
   "metadata": {
    "collapsed": false,
    "pycharm": {
     "name": "#%%\n"
    }
   }
  },
  {
   "cell_type": "code",
   "execution_count": null,
   "outputs": [],
   "source": [
    "# チケット番号＆ドライブURL合体\n",
    "list_fusion =[]\n",
    "cnt_row = 0\n",
    "while cnt_row < len_rows:    # 一行ずつ取り出し\n",
    "    list_tmp = []\n",
    "\n",
    "    # メアド参照確認\n",
    "    if df_ticket_no.iloc[cnt_row,0] == df_ticket_url.iloc[cnt_row,0]:\n",
    "        list_tmp.append(df_ticket_no.iloc[cnt_row,0])   #リスト０番にメアド追加\n",
    "    else:\n",
    "        print(\"参照エラー（メアド）。終了します。\")\n",
    "        exit()\n",
    "\n",
    "    cnt_column = 1\n",
    "    text = \"\"\n",
    "    while cnt_column < len_columns:  #　行中の列要素\n",
    "        list_tmp.append(df_ticket_no.iloc[cnt_row,cnt_column])\n",
    "        list_tmp.append(df_ticket_url.iloc[cnt_row,cnt_column])\n",
    "        cnt_column += 1\n",
    "\n",
    "    # list追加\n",
    "    list_fusion.append(list_tmp)\n",
    "    cnt_row += 1\n",
    "\n",
    "# list -> df\n",
    "df_fusion = pd.DataFrame(list_fusion)\n",
    "df_fusion.head()\n"
   ],
   "metadata": {
    "collapsed": false,
    "pycharm": {
     "name": "#%%\n"
    }
   }
  },
  {
   "cell_type": "code",
   "execution_count": null,
   "outputs": [],
   "source": [
    "df_fusion.fillna(0)\n",
    "# df -> csv\n",
    "df_fusion.to_csv(csv_export)\n",
    "print(\"Done!\")\n",
    "\n"
   ],
   "metadata": {
    "collapsed": false,
    "pycharm": {
     "name": "#%%\n"
    }
   }
  }
 ],
 "metadata": {
  "kernelspec": {
   "display_name": "Python 3",
   "language": "python",
   "name": "python3"
  },
  "language_info": {
   "codemirror_mode": {
    "name": "ipython",
    "version": 2
   },
   "file_extension": ".py",
   "mimetype": "text/x-python",
   "name": "python",
   "nbconvert_exporter": "python",
   "pygments_lexer": "ipython2",
   "version": "2.7.6"
  }
 },
 "nbformat": 4,
 "nbformat_minor": 0
}